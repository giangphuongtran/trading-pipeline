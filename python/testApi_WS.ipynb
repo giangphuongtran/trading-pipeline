{
 "cells": [
  {
   "cell_type": "code",
   "execution_count": 1,
   "id": "d4ef11e6",
   "metadata": {},
   "outputs": [
    {
     "data": {
      "text/plain": [
       "True"
      ]
     },
     "execution_count": 1,
     "metadata": {},
     "output_type": "execute_result"
    }
   ],
   "source": [
    "# Import required libraries\n",
    "import os, time, requests\n",
    "from pathlib import Path\n",
    "from dotenv import load_dotenv, find_dotenv\n",
    "\n",
    "# robust: search upward for the nearest .env\n",
    "env_path = find_dotenv(usecwd=True) or (Path(__file__).resolve().parent / \".env\")\n",
    "load_dotenv(env_path, override=False)"
   ]
  },
  {
   "cell_type": "code",
   "execution_count": 2,
   "id": "8bfba2ef",
   "metadata": {},
   "outputs": [
    {
     "name": "stdout",
     "output_type": "stream",
     "text": [
      "CWD: /Users/mac/Learningnewthings/trading-pipeline/python\n"
     ]
    }
   ],
   "source": [
    "print(\"CWD:\", Path.cwd())"
   ]
  },
  {
   "cell_type": "code",
   "execution_count": 3,
   "id": "5148eb24",
   "metadata": {},
   "outputs": [],
   "source": [
    "# Get API key from environment variable\n",
    "TD_KEY = os.getenv(\"TWELVE_DATA_KEY\")\n",
    "assert TD_KEY, \"TWELVE_DATA_KEY not set\""
   ]
  },
  {
   "cell_type": "code",
   "execution_count": null,
   "id": "4403fdeb",
   "metadata": {},
   "outputs": [],
   "source": [
    "def latest_minute_bars_twelvedata(symbols):\n",
    "    \"\"\"\n",
    "    Pull 1 latest bar for many symbols in ONE call (good for prototypes).\n",
    "    NOTE: A 50-symbol batch ~= 50 credits on free plan (8/min, 800/day).\n",
    "    \"\"\"\n",
    "    base = \"https://api.twelvedata.com/time_series\"\n",
    "    params = {\n",
    "        \"symbol\": \",\".join(symbols),      # up to ~120 symbols\n",
    "        \"interval\": \"1min\",\n",
    "        \"outputsize\": 1,                  # latest bar only\n",
    "        \"timezone\": \"UTC\",\n",
    "        \"apikey\": TD_KEY\n",
    "    }\n",
    "    r = requests.get(base, params=params, timeout=30)\n",
    "    r.raise_for_status()\n",
    "    data = r.json()\n",
    "    \n",
    "    if isinstance(data, dict) and data.get(\"status\") == \"error\":\n",
    "        raise RuntimeError(f\"Twelve Data error: {data.get('message')}\")\n",
    "    \n",
    "    # Normalize to a list of dicts: symbol, ts, ohlcv\n",
    "    rows = []\n",
    "    \n",
    "    def _row(sym, v):\n",
    "        return {\n",
    "            \"symbol\": sym,\n",
    "            \"event_time\": v[\"datetime\"],   # already UTC if timezone=UTC\n",
    "            \"o\": float(v[\"open\"]),\n",
    "            \"h\": float(v[\"high\"]),\n",
    "            \"l\": float(v[\"low\"]),\n",
    "            \"c\": float(v[\"close\"]),\n",
    "            \"v\": float(v[\"volume\"]),\n",
    "            \"source\": \"twelvedata\",\n",
    "        }\n",
    "        \n",
    "    \n",
    "    if \"values\" in data and \"meta\" in data:\n",
    "        vals = data.get(\"values\", [])\n",
    "        if vals:\n",
    "            sym = data[\"meta\"][\"symbol\"]\n",
    "            rows.append(_row(sym, vals[0]))\n",
    "        return rows\n",
    "    \n",
    "    for sym in symbols:\n",
    "        payload = data.get(sym)\n",
    "        if not isinstance(payload, dict):\n",
    "            continue\n",
    "        if payload.get(\"status\") == \"error\":\n",
    "            print(f\"Twelve Data error for {sym}: {payload.get('message')}\")\n",
    "            continue\n",
    "        vals = payload.get(\"values\", [])\n",
    "        if vals:\n",
    "            rows.append(_row(sym, vals[0]))\n",
    "    \n",
    "    return rows"
   ]
  },
  {
   "cell_type": "code",
   "execution_count": 5,
   "id": "e341a5d5",
   "metadata": {},
   "outputs": [
    {
     "data": {
      "text/plain": [
       "[]"
      ]
     },
     "execution_count": 5,
     "metadata": {},
     "output_type": "execute_result"
    }
   ],
   "source": [
    "latest_minute_bars_twelvedata([\"AAPL\"])"
   ]
  },
  {
   "cell_type": "code",
   "execution_count": null,
   "id": "a20e7f52",
   "metadata": {},
   "outputs": [],
   "source": []
  }
 ],
 "metadata": {
  "kernelspec": {
   "display_name": ".venv",
   "language": "python",
   "name": "python3"
  },
  "language_info": {
   "codemirror_mode": {
    "name": "ipython",
    "version": 3
   },
   "file_extension": ".py",
   "mimetype": "text/x-python",
   "name": "python",
   "nbconvert_exporter": "python",
   "pygments_lexer": "ipython3",
   "version": "3.13.5"
  }
 },
 "nbformat": 4,
 "nbformat_minor": 5
}
